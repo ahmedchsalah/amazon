{
 "cells": [
  {
   "cell_type": "markdown",
   "id": "a6abc9ff-f149-451b-82f2-683523c78bba",
   "metadata": {},
   "source": [
    "##### Import the packages"
   ]
  },
  {
   "cell_type": "code",
   "execution_count": 2,
   "id": "e2d2b038-fba9-495e-bd51-f1aa035014a9",
   "metadata": {},
   "outputs": [],
   "source": [
    "import pandas as pd \n",
    "import seaborn as sns\n",
    "import matplotlib.pyplot as plt\n",
    "import re\n",
    "import numpy as np\n",
    "from sklearn.model_selection import train_test_split\n",
    "from sklearn.feature_extraction.text import TfidfVectorizer\n",
    "from sklearn.linear_model import LogisticRegression\n",
    "from sklearn.metrics import classification_report, accuracy_score\n",
    "import warnings\n",
    "warnings.filterwarnings(\"ignore\")"
   ]
  },
  {
   "cell_type": "markdown",
   "id": "e7f11008-a685-4fc8-99e2-97a5dbb86171",
   "metadata": {},
   "source": [
    "#### Read Train Dataset"
   ]
  },
  {
   "cell_type": "code",
   "execution_count": 4,
   "id": "f519f76a-6d8b-4613-8d04-ba59059edc06",
   "metadata": {},
   "outputs": [
    {
     "data": {
      "text/html": [
       "<div>\n",
       "<style scoped>\n",
       "    .dataframe tbody tr th:only-of-type {\n",
       "        vertical-align: middle;\n",
       "    }\n",
       "\n",
       "    .dataframe tbody tr th {\n",
       "        vertical-align: top;\n",
       "    }\n",
       "\n",
       "    .dataframe thead th {\n",
       "        text-align: right;\n",
       "    }\n",
       "</style>\n",
       "<table border=\"1\" class=\"dataframe\">\n",
       "  <thead>\n",
       "    <tr style=\"text-align: right;\">\n",
       "      <th></th>\n",
       "      <th>class_index</th>\n",
       "      <th>review_title</th>\n",
       "      <th>review_text</th>\n",
       "    </tr>\n",
       "    <tr>\n",
       "      <th>review_id</th>\n",
       "      <th></th>\n",
       "      <th></th>\n",
       "      <th></th>\n",
       "    </tr>\n",
       "  </thead>\n",
       "  <tbody>\n",
       "    <tr>\n",
       "      <th>0</th>\n",
       "      <td>2</td>\n",
       "      <td>Stuning even for the non-gamer</td>\n",
       "      <td>This sound track was beautiful! It paints the ...</td>\n",
       "    </tr>\n",
       "    <tr>\n",
       "      <th>1</th>\n",
       "      <td>2</td>\n",
       "      <td>The best soundtrack ever to anything.</td>\n",
       "      <td>I'm reading a lot of reviews saying that this ...</td>\n",
       "    </tr>\n",
       "    <tr>\n",
       "      <th>2</th>\n",
       "      <td>2</td>\n",
       "      <td>Amazing!</td>\n",
       "      <td>This soundtrack is my favorite music of all ti...</td>\n",
       "    </tr>\n",
       "    <tr>\n",
       "      <th>3</th>\n",
       "      <td>2</td>\n",
       "      <td>Excellent Soundtrack</td>\n",
       "      <td>I truly like this soundtrack and I enjoy video...</td>\n",
       "    </tr>\n",
       "    <tr>\n",
       "      <th>4</th>\n",
       "      <td>2</td>\n",
       "      <td>Remember, Pull Your Jaw Off The Floor After He...</td>\n",
       "      <td>If you've played the game, you know how divine...</td>\n",
       "    </tr>\n",
       "  </tbody>\n",
       "</table>\n",
       "</div>"
      ],
      "text/plain": [
       "           class_index                                       review_title  \\\n",
       "review_id                                                                   \n",
       "0                    2                     Stuning even for the non-gamer   \n",
       "1                    2              The best soundtrack ever to anything.   \n",
       "2                    2                                           Amazing!   \n",
       "3                    2                               Excellent Soundtrack   \n",
       "4                    2  Remember, Pull Your Jaw Off The Floor After He...   \n",
       "\n",
       "                                                 review_text  \n",
       "review_id                                                     \n",
       "0          This sound track was beautiful! It paints the ...  \n",
       "1          I'm reading a lot of reviews saying that this ...  \n",
       "2          This soundtrack is my favorite music of all ti...  \n",
       "3          I truly like this soundtrack and I enjoy video...  \n",
       "4          If you've played the game, you know how divine...  "
      ]
     },
     "execution_count": 4,
     "metadata": {},
     "output_type": "execute_result"
    }
   ],
   "source": [
    "df_train = pd.read_csv('D:/data set/amazon_review_polarity_csv/amazon_review_polarity_csv/train.csv', header=None, names=['class_index', 'review_title', 'review_text'])\n",
    "df_train.index.name = 'review_id'\n",
    "df_train.head(5)"
   ]
  },
  {
   "cell_type": "markdown",
   "id": "fea68fa2-a7c4-4000-a9ad-57c732dac0f1",
   "metadata": {},
   "source": [
    "#### Read Test Dataset"
   ]
  },
  {
   "cell_type": "code",
   "execution_count": 6,
   "id": "8a0eed10-dd13-4687-8de6-1249be86a228",
   "metadata": {},
   "outputs": [],
   "source": [
    "df_test = pd.read_csv('D:/data set/amazon_review_polarity_csv/amazon_review_polarity_csv/test.csv', header=None, names=['class_index', 'review_title', 'review_text'])\n",
    "df_test.index.name = 'review_id'"
   ]
  },
  {
   "cell_type": "code",
   "execution_count": 7,
   "id": "ef8af1a5-d761-4f82-bccf-771ad5c40782",
   "metadata": {},
   "outputs": [
    {
     "data": {
      "text/html": [
       "<div>\n",
       "<style scoped>\n",
       "    .dataframe tbody tr th:only-of-type {\n",
       "        vertical-align: middle;\n",
       "    }\n",
       "\n",
       "    .dataframe tbody tr th {\n",
       "        vertical-align: top;\n",
       "    }\n",
       "\n",
       "    .dataframe thead th {\n",
       "        text-align: right;\n",
       "    }\n",
       "</style>\n",
       "<table border=\"1\" class=\"dataframe\">\n",
       "  <thead>\n",
       "    <tr style=\"text-align: right;\">\n",
       "      <th></th>\n",
       "      <th>class_index</th>\n",
       "      <th>review_title</th>\n",
       "      <th>review_text</th>\n",
       "    </tr>\n",
       "    <tr>\n",
       "      <th>review_id</th>\n",
       "      <th></th>\n",
       "      <th></th>\n",
       "      <th></th>\n",
       "    </tr>\n",
       "  </thead>\n",
       "  <tbody>\n",
       "    <tr>\n",
       "      <th>0</th>\n",
       "      <td>2</td>\n",
       "      <td>Great CD</td>\n",
       "      <td>My lovely Pat has one of the GREAT voices of h...</td>\n",
       "    </tr>\n",
       "    <tr>\n",
       "      <th>1</th>\n",
       "      <td>2</td>\n",
       "      <td>One of the best game music soundtracks - for a...</td>\n",
       "      <td>Despite the fact that I have only played a sma...</td>\n",
       "    </tr>\n",
       "    <tr>\n",
       "      <th>2</th>\n",
       "      <td>1</td>\n",
       "      <td>Batteries died within a year ...</td>\n",
       "      <td>I bought this charger in Jul 2003 and it worke...</td>\n",
       "    </tr>\n",
       "    <tr>\n",
       "      <th>3</th>\n",
       "      <td>2</td>\n",
       "      <td>works fine, but Maha Energy is better</td>\n",
       "      <td>Check out Maha Energy's website. Their Powerex...</td>\n",
       "    </tr>\n",
       "    <tr>\n",
       "      <th>4</th>\n",
       "      <td>2</td>\n",
       "      <td>Great for the non-audiophile</td>\n",
       "      <td>Reviewed quite a bit of the combo players and ...</td>\n",
       "    </tr>\n",
       "  </tbody>\n",
       "</table>\n",
       "</div>"
      ],
      "text/plain": [
       "           class_index                                       review_title  \\\n",
       "review_id                                                                   \n",
       "0                    2                                           Great CD   \n",
       "1                    2  One of the best game music soundtracks - for a...   \n",
       "2                    1                   Batteries died within a year ...   \n",
       "3                    2              works fine, but Maha Energy is better   \n",
       "4                    2                       Great for the non-audiophile   \n",
       "\n",
       "                                                 review_text  \n",
       "review_id                                                     \n",
       "0          My lovely Pat has one of the GREAT voices of h...  \n",
       "1          Despite the fact that I have only played a sma...  \n",
       "2          I bought this charger in Jul 2003 and it worke...  \n",
       "3          Check out Maha Energy's website. Their Powerex...  \n",
       "4          Reviewed quite a bit of the combo players and ...  "
      ]
     },
     "execution_count": 7,
     "metadata": {},
     "output_type": "execute_result"
    }
   ],
   "source": [
    "df_test.head(5)"
   ]
  },
  {
   "cell_type": "markdown",
   "id": "cf20ad9e-d42d-4658-a9b7-76001eca5760",
   "metadata": {},
   "source": [
    "#### inspect the data"
   ]
  },
  {
   "cell_type": "code",
   "execution_count": 8,
   "id": "69b1eca3-b723-46a0-b993-381cbad60b7e",
   "metadata": {},
   "outputs": [
    {
     "data": {
      "text/plain": [
       "(3600000, 3)"
      ]
     },
     "execution_count": 8,
     "metadata": {},
     "output_type": "execute_result"
    }
   ],
   "source": [
    "df_train.shape"
   ]
  },
  {
   "cell_type": "code",
   "execution_count": 9,
   "id": "1119af49-147d-4c24-a23c-eb7673688d05",
   "metadata": {},
   "outputs": [
    {
     "data": {
      "text/plain": [
       "(400000, 3)"
      ]
     },
     "execution_count": 9,
     "metadata": {},
     "output_type": "execute_result"
    }
   ],
   "source": [
    "df_test.shape"
   ]
  },
  {
   "cell_type": "code",
   "execution_count": 10,
   "id": "f2464d3b-09eb-4ab1-967a-10739334ca0f",
   "metadata": {},
   "outputs": [
    {
     "name": "stdout",
     "output_type": "stream",
     "text": [
      "<class 'pandas.core.frame.DataFrame'>\n",
      "RangeIndex: 3600000 entries, 0 to 3599999\n",
      "Data columns (total 3 columns):\n",
      " #   Column        Dtype \n",
      "---  ------        ----- \n",
      " 0   class_index   int64 \n",
      " 1   review_title  object\n",
      " 2   review_text   object\n",
      "dtypes: int64(1), object(2)\n",
      "memory usage: 82.4+ MB\n"
     ]
    }
   ],
   "source": [
    "df_train.info()"
   ]
  },
  {
   "cell_type": "code",
   "execution_count": 11,
   "id": "e38d9c30-3494-40f5-a854-1ae791c680bd",
   "metadata": {},
   "outputs": [
    {
     "data": {
      "text/plain": [
       "class_index       0\n",
       "review_title    207\n",
       "review_text       0\n",
       "dtype: int64"
      ]
     },
     "execution_count": 11,
     "metadata": {},
     "output_type": "execute_result"
    }
   ],
   "source": [
    "df_train.isnull().sum()"
   ]
  },
  {
   "cell_type": "code",
   "execution_count": 12,
   "id": "0c358de1-f3c5-4837-b147-e4e81d9c0989",
   "metadata": {},
   "outputs": [
    {
     "data": {
      "text/plain": [
       "class_index      0\n",
       "review_title    24\n",
       "review_text      0\n",
       "dtype: int64"
      ]
     },
     "execution_count": 12,
     "metadata": {},
     "output_type": "execute_result"
    }
   ],
   "source": [
    "df_test.isnull().sum()"
   ]
  },
  {
   "cell_type": "code",
   "execution_count": 13,
   "id": "b93f0085-54ce-43a3-a001-511e7099305a",
   "metadata": {},
   "outputs": [
    {
     "data": {
      "text/plain": [
       "0"
      ]
     },
     "execution_count": 13,
     "metadata": {},
     "output_type": "execute_result"
    }
   ],
   "source": [
    "df_train.duplicated().sum()"
   ]
  },
  {
   "cell_type": "code",
   "execution_count": 14,
   "id": "fa1d607f-1b81-4245-9f8f-ca43c301966c",
   "metadata": {},
   "outputs": [
    {
     "data": {
      "text/plain": [
       "0"
      ]
     },
     "execution_count": 14,
     "metadata": {},
     "output_type": "execute_result"
    }
   ],
   "source": [
    "df_test.duplicated().sum()"
   ]
  },
  {
   "cell_type": "code",
   "execution_count": 15,
   "id": "cf7f4364-9b5a-46cc-9fa5-c8581a506b70",
   "metadata": {},
   "outputs": [],
   "source": [
    "# Separate features and target\n",
    "X_train = df_train['review_text']\n",
    "X_test = df_test['review_text']\n",
    "y_train = df_train['class_index']\n",
    "y_test = df_test['class_index']"
   ]
  },
  {
   "cell_type": "code",
   "execution_count": null,
   "id": "7e9bc138-4e2e-4bd6-917c-cb27bf575c2a",
   "metadata": {},
   "outputs": [],
   "source": [
    "# Vectorize the text data using TF-IDF without any cleaning\n",
    "vectorizer = TfidfVectorizer(min_df=2, max_df=0.95, ngram_range=(1, 2), stop_words='english')\n",
    "\n",
    "# Fit the vectorizer on training data and transform both train and test sets\n",
    "X_train_tfidf = vectorizer.fit_transform(X_train)\n",
    "X_test_tfidf = vectorizer.transform(X_test)"
   ]
  },
  {
   "cell_type": "code",
   "execution_count": null,
   "id": "ca43fbdd-e19a-4b2e-ae86-28d01fc57466",
   "metadata": {},
   "outputs": [],
   "source": [
    "model = LogisticRegression(max_iter=1000)"
   ]
  },
  {
   "cell_type": "code",
   "execution_count": null,
   "id": "b8b4d1eb-e2bb-4b42-aec7-0ae1f9cc4582",
   "metadata": {},
   "outputs": [],
   "source": [
    "# Train the model\n",
    "model.fit(X_train_tfidf, y_train)"
   ]
  },
  {
   "cell_type": "code",
   "execution_count": null,
   "id": "7f5ddbe2-ea9e-4300-a942-133b5e1656e6",
   "metadata": {},
   "outputs": [],
   "source": [
    "# Make predictions\n",
    "y_pred = model.predict(X_test_tfidf)\n",
    "\n",
    "# Evaluate the model\n",
    "print(f'Initial Accuracy (no cleaning): {accuracy_score(y_test, y_pred)}')\n",
    "print(f'Classification Report:\\n{classification_report(y_test, y_pred)}')"
   ]
  },
  {
   "cell_type": "code",
   "execution_count": null,
   "id": "196d2c68-c0da-480b-a8ed-bfdff941f813",
   "metadata": {},
   "outputs": [],
   "source": [
    "# Visualizing the distribution of class labels\n",
    "sns.countplot(x=y_train)\n",
    "plt.title(\"Class Distribution in Training Set\")\n",
    "plt.xlabel(\"Class Index (1 = Negative, 2 = Positive)\")\n",
    "plt.ylabel(\"Count\")\n",
    "plt.show()\n"
   ]
  },
  {
   "cell_type": "code",
   "execution_count": null,
   "id": "4255a12f-2ab7-43f7-960e-a0082ac6083d",
   "metadata": {},
   "outputs": [],
   "source": [
    "# Calculate word counts\n",
    "df_train['word_count'] = df_train['review_text'].apply(lambda x: len(x.split()))\n",
    "\n",
    "# Plot distribution of word counts\n",
    "sns.histplot(df_train['word_count'], bins=50, kde=True)\n",
    "plt.title(\"Distribution of Word Counts in Reviews\")\n",
    "plt.xlabel(\"Word Count\")\n",
    "plt.ylabel(\"Frequency\")\n",
    "plt.show()"
   ]
  },
  {
   "cell_type": "code",
   "execution_count": null,
   "id": "e7c99ce5-7768-48e0-87d2-3b5361c8038f",
   "metadata": {},
   "outputs": [],
   "source": [
    "from collections import Counter\n",
    "from wordcloud import WordCloud\n",
    "\n",
    "# Generate WordCloud for positive reviews\n",
    "positive_text = \" \".join(df_train[df_train['class_index'] == 2]['review_text'])\n",
    "wordcloud_pos = WordCloud(width=800, height=400, background_color='white').generate(positive_text)\n",
    "\n",
    "plt.figure(figsize=(10, 5))\n",
    "plt.imshow(wordcloud_pos, interpolation='bilinear')\n",
    "plt.title(\"WordCloud for Positive Reviews\")\n",
    "plt.axis('off')\n",
    "plt.show()\n",
    "\n",
    "# Generate WordCloud for negative reviews\n",
    "negative_text = \" \".join(df_train[df_train['class_index'] == 1]['review_text'])\n",
    "wordcloud_neg = WordCloud(width=800, height=400, background_color='black').generate(negative_text)\n",
    "\n",
    "plt.figure(figsize=(10, 5))\n",
    "plt.imshow(wordcloud_neg, interpolation='bilinear')\n",
    "plt.title(\"WordCloud for Negative Reviews\")\n",
    "plt.axis('off')\n",
    "plt.show()\n"
   ]
  },
  {
   "cell_type": "code",
   "execution_count": null,
   "id": "23dbfc20-8e99-4b53-a6ac-d3d83cea7522",
   "metadata": {},
   "outputs": [],
   "source": [
    "# Get feature names and their importance\n",
    "feature_names = vectorizer.get_feature_names_out()\n",
    "coefs = model.coef_.flatten()\n",
    "\n",
    "# Sort and get top 20 positive and negative words\n",
    "top_positive_indices = coefs.argsort()[-20:]\n",
    "top_negative_indices = coefs.argsort()[:20]\n",
    "\n",
    "# Plot\n",
    "plt.figure(figsize=(10, 5))\n",
    "plt.barh(range(20), coefs[top_positive_indices], align='center', color='green')\n",
    "plt.yticks(range(20), [feature_names[i] for i in top_positive_indices])\n",
    "plt.title(\"Top Positive Words (TF-IDF)\")\n",
    "plt.show()\n",
    "\n",
    "plt.figure(figsize=(10, 5))\n",
    "plt.barh(range(20), coefs[top_negative_indices], align='center', color='red')\n",
    "plt.yticks(range(20), [feature_names[i] for i in top_negative_indices])\n",
    "plt.title(\"Top Negative Words (TF-IDF)\")\n",
    "plt.show()\n"
   ]
  },
  {
   "cell_type": "code",
   "execution_count": null,
   "id": "8fe1871d-1a1d-4103-b955-17fdbd882a26",
   "metadata": {},
   "outputs": [],
   "source": [
    "df_train.drop(columns=['word_count'], inplace=True)"
   ]
  },
  {
   "cell_type": "code",
   "execution_count": null,
   "id": "92699912-620c-40d2-889a-e7255e112f8e",
   "metadata": {},
   "outputs": [],
   "source": [
    "df_train['label'] = df_train.class_index.map({2:0, 1:1})"
   ]
  },
  {
   "cell_type": "code",
   "execution_count": null,
   "id": "f7274fbf-5008-4977-83db-a1ecb410b4ed",
   "metadata": {},
   "outputs": [],
   "source": [
    "df_train.head(5)"
   ]
  },
  {
   "cell_type": "code",
   "execution_count": null,
   "id": "f5f62cbf-a3fa-40c8-bed2-d25963212839",
   "metadata": {},
   "outputs": [],
   "source": [
    "df_train['full_review'] = df_train.review_title.fillna('') + \" \" + df_train.review_text "
   ]
  },
  {
   "cell_type": "code",
   "execution_count": null,
   "id": "d51e0576-bf6a-437b-ae86-db8bc638fa78",
   "metadata": {},
   "outputs": [],
   "source": [
    "df_train.head(5)"
   ]
  },
  {
   "cell_type": "code",
   "execution_count": null,
   "id": "4fd5c98f-304b-48ed-b2f3-c8edac15a306",
   "metadata": {},
   "outputs": [],
   "source": [
    "df_train[df_train.review_title.isnull()]"
   ]
  },
  {
   "cell_type": "code",
   "execution_count": null,
   "id": "16497a58-5a50-43fc-9366-fe27b2aadf52",
   "metadata": {},
   "outputs": [],
   "source": [
    "# check avergae lenght of a full review \n",
    "full_review_avg_length = np.mean([ len(df_train.full_review[0]) for i in range(len(df_train.full_review))])\n",
    "print(full_review_avg_length) "
   ]
  },
  {
   "cell_type": "code",
   "execution_count": null,
   "id": "5aff9156-8897-4425-ab11-3937f3186298",
   "metadata": {},
   "outputs": [],
   "source": [
    "# check for very short reviews \n",
    "\n",
    "short_reviews = df_train[df_train['full_review'].apply(lambda x: len(x.split()) < 10)]\n",
    "\n",
    "short_reviews.label.value_counts()\n",
    "\n",
    "print(f\"Number of short reviews: {len(short_reviews)}\")"
   ]
  },
  {
   "cell_type": "code",
   "execution_count": null,
   "id": "e9aff5b0-98a9-4e0a-a211-51faeba94a8e",
   "metadata": {},
   "outputs": [],
   "source": [
    "df_train.head()"
   ]
  },
  {
   "cell_type": "code",
   "execution_count": null,
   "id": "f9b925f4-86e0-4b44-895e-397993cfecd9",
   "metadata": {},
   "outputs": [],
   "source": [
    "# Fill missing values in the review_title column with empty string\n",
    "df_train['review_title'] = df_train['review_title'].fillna('')\n",
    "df_test['review_title'] = df_test['review_title'].fillna('')\n",
    "\n",
    "# Combine review_title and review_text to create a full review column\n",
    "df_test['full_review'] = df_test['review_title'] + \" \" + df_test['review_text']\n"
   ]
  },
  {
   "cell_type": "code",
   "execution_count": null,
   "id": "6a40952a-5a3b-4fa8-ab2e-e2261284dc1c",
   "metadata": {},
   "outputs": [],
   "source": [
    "import nltk\n",
    "from nltk.corpus import stopwords\n",
    "from nltk.tokenize import word_tokenize\n",
    "from nltk.stem import WordNetLemmatizer\n",
    "from cleantext import clean\n",
    "from joblib import Parallel, delayed\n",
    "from sklearn.preprocessing import MinMaxScaler\n",
    "from sklearn.pipeline import Pipeline\n",
    "from sklearn.base import BaseEstimator, TransformerMixin\n",
    "from sklearn.preprocessing import FunctionTransformer\n",
    "from tqdm import tqdm"
   ]
  },
  {
   "cell_type": "code",
   "execution_count": null,
   "id": "688f47cd-c565-4ad9-b357-3589161e103e",
   "metadata": {},
   "outputs": [],
   "source": [
    "# Download necessary NLTK datasets\n",
    "nltk.download('stopwords')\n",
    "nltk.download('punkt')\n",
    "nltk.download('wordnet')"
   ]
  },
  {
   "cell_type": "code",
   "execution_count": null,
   "id": "3a0af9e7-faab-4181-abbb-b526961e3bdf",
   "metadata": {},
   "outputs": [],
   "source": [
    "# Initialize NLTK lemmatizer and stopwords list\n",
    "lemmatizer = WordNetLemmatizer()\n",
    "stop_words = set(stopwords.words('english'))\n"
   ]
  },
  {
   "cell_type": "code",
   "execution_count": null,
   "id": "2ce43b3c-2507-4657-adc2-0725b273eb43",
   "metadata": {},
   "outputs": [],
   "source": [
    "# Custom stopwords to keep (e.g., \"not\", \"no\", \"nor\")\n",
    "stopwords_to_keep = {\"not\", \"no\", \"nor\"}\n",
    "custom_stopwords = stop_words - stopwords_to_keep\n",
    "# Pre-compile regex patterns for optimization\n",
    "repeated_char_pattern = re.compile(r'(.)\\1{3,}')\n",
    "repeated_word_pattern = re.compile(r'\\b(\\w+)( \\1\\b)+')"
   ]
  },
  {
   "cell_type": "code",
   "execution_count": null,
   "id": "4c8eb8c5-40c6-4b19-8d8f-8630f5169203",
   "metadata": {},
   "outputs": [],
   "source": [
    "\n",
    "def clean_text_step(text):\n",
    "    # Lowercase the text\n",
    "    text = text.lower()\n",
    "    \n",
    "    # Remove URLs\n",
    "    text = re.sub(r\"http\\S+|www\\S+|https\\S+\", \"\", text)\n",
    "    \n",
    "    # Remove emails\n",
    "    text = re.sub(r\"\\S+@\\S+\\.\\S+\", \"\", text)\n",
    "    \n",
    "    # Remove phone numbers (basic format)\n",
    "    text = re.sub(r\"\\b\\d{10,}\\b\", \"\", text)  # Remove long sequences of digits\n",
    "    \n",
    "    # Remove digits\n",
    "    text = re.sub(r\"\\d+\", \"\", text)\n",
    "    \n",
    "    # Remove punctuation\n",
    "    text = re.sub(r\"[^\\w\\s]\", \"\", text)\n",
    "    \n",
    "    return text\n",
    "\n",
    "\n",
    "### Step 2: Remove Gibberish ###\n",
    "def remove_gibberish_step(text):\n",
    "    text = repeated_char_pattern.sub(r'\\1', text)\n",
    "    text = repeated_word_pattern.sub(r'\\1', text)\n",
    "    return text\n",
    "\n",
    "### Step 3: Tokenization ###\n",
    "def tokenize_step(text):\n",
    "    # Tokenize by splitting on whitespace and handling basic punctuation (remove non-alphabetic characters)\n",
    "    return re.findall(r'\\b\\w+\\b', text)\n",
    "\n",
    "\n",
    "### Step 4: Lemmatization and Stopword Removal ###\n",
    "def lemmatize_and_remove_stopwords_step(tokens):\n",
    "    return [lemmatizer.lemmatize(token.lower()) for token in tokens if token.lower() not in custom_stopwords and token.isalpha()]\n",
    "\n",
    "### Combined Preprocessing Function ###\n",
    "def preprocess_text(text):\n",
    "    # Step-by-step preprocessing\n",
    "    text = clean_text_step(text)\n",
    "    text = remove_gibberish_step(text)\n",
    "    tokens = tokenize_step(text)\n",
    "    tokens = lemmatize_and_remove_stopwords_step(tokens)\n",
    "    \n",
    "    # Join tokens back to a single string\n",
    "    return \" \".join(tokens)"
   ]
  },
  {
   "cell_type": "code",
   "execution_count": null,
   "id": "d029c451-7501-4d12-a6c3-71e6ae316f5f",
   "metadata": {},
   "outputs": [],
   "source": [
    "df_train['cleaned_text'] = df_train['full_review'].apply(clean_text_step)\n",
    "df_test['cleaned_text'] = df_test['full_review'].apply(clean_text_step)"
   ]
  },
  {
   "cell_type": "code",
   "execution_count": null,
   "id": "896f1ce6-c18a-4d89-b38c-e384c813c00e",
   "metadata": {},
   "outputs": [],
   "source": [
    "df_train['no_gibberish'] = df_train['cleaned_text'].apply(remove_gibberish_step)\n",
    "df_test['no_gibberish'] = df_test['cleaned_text'].apply(remove_gibberish_step)"
   ]
  },
  {
   "cell_type": "code",
   "execution_count": null,
   "id": "0ec12c31-32a9-4d2a-a6f4-66d454b315b2",
   "metadata": {},
   "outputs": [],
   "source": [
    "df_train['tokens'] = df_train['no_gibberish'].apply(tokenize_step)\n",
    "df_test['tokens'] = df_test['no_gibberish'].apply(tokenize_step)"
   ]
  },
  {
   "cell_type": "code",
   "execution_count": null,
   "id": "6ac6fcd1-d4ce-40c1-8999-ace708a5820b",
   "metadata": {},
   "outputs": [],
   "source": [
    "df_train['lemmatized_text'] = df_train['full_review'].apply(lambda x: preprocess_text(x))\n",
    "df_test['lemmatized_text'] = df_test['full_review'].apply(lambda x: preprocess_text(x))"
   ]
  },
  {
   "cell_type": "code",
   "execution_count": null,
   "id": "8c6dc809-28a0-4ec2-8dcd-833dc0eac444",
   "metadata": {},
   "outputs": [],
   "source": [
    "df_train.head(5)"
   ]
  },
  {
   "cell_type": "code",
   "execution_count": null,
   "id": "029387dd-4241-45ba-9fe1-2e464729bb4f",
   "metadata": {},
   "outputs": [],
   "source": [
    "df_test.head(5)"
   ]
  },
  {
   "cell_type": "code",
   "execution_count": null,
   "id": "2b435800-1181-4a84-a58f-18cb674224a3",
   "metadata": {},
   "outputs": [],
   "source": [
    "# Separate features and target for the cleaned dataset\n",
    "X_train_clean = df_train['no_gibberish']\n",
    "X_test_clean = df_test['no_gibberish']\n",
    "y_train_clean = df_train['class_index']  # Correct column name\n",
    "y_test_clean = df_test['class_index']    # Correct column name"
   ]
  },
  {
   "cell_type": "code",
   "execution_count": null,
   "id": "3b9c2fff-bda7-4785-8f7e-c1c6540ebbf7",
   "metadata": {},
   "outputs": [],
   "source": [
    "from sklearn.feature_extraction.text import TfidfVectorizer"
   ]
  },
  {
   "cell_type": "code",
   "execution_count": null,
   "id": "93a32756-b9b8-4ba9-8a6e-3c6b59677205",
   "metadata": {},
   "outputs": [],
   "source": [
    "# Vectorize the cleaned text data using TF-IDF\n",
    "vectorizer_clean = TfidfVectorizer(\n",
    "    min_df=2,\n",
    "    max_df=0.95,\n",
    "    max_features=20000  # Reduce to a smaller size\n",
    ")\n",
    "\n",
    "# Fit the vectorizer on cleaned training data and transform both train and test sets\n",
    "X_train_tfidf_clean = vectorizer_clean.fit_transform(X_train_clean).tocsc()\n",
    "X_test_tfidf_clean = vectorizer_clean.transform(X_test_clean).tocsc()"
   ]
  },
  {
   "cell_type": "code",
   "execution_count": null,
   "id": "a1ffd6f8-e517-4281-a0b1-fff2f87500f2",
   "metadata": {},
   "outputs": [],
   "source": []
  }
 ],
 "metadata": {
  "kernelspec": {
   "display_name": "Python 3 (ipykernel)",
   "language": "python",
   "name": "python3"
  },
  "language_info": {
   "codemirror_mode": {
    "name": "ipython",
    "version": 3
   },
   "file_extension": ".py",
   "mimetype": "text/x-python",
   "name": "python",
   "nbconvert_exporter": "python",
   "pygments_lexer": "ipython3",
   "version": "3.12.3"
  }
 },
 "nbformat": 4,
 "nbformat_minor": 5
}
